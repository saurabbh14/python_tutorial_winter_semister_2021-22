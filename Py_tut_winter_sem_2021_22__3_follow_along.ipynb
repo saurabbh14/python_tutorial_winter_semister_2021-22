{
  "nbformat": 4,
  "nbformat_minor": 0,
  "metadata": {
    "colab": {
      "name": "Py_tut_winter_sem-2021-22_#3_follow_along.ipynb",
      "provenance": [],
      "collapsed_sections": [],
      "include_colab_link": true
    },
    "kernelspec": {
      "name": "python3",
      "display_name": "Python 3"
    }
  },
  "cells": [
    {
      "cell_type": "markdown",
      "metadata": {
        "id": "view-in-github",
        "colab_type": "text"
      },
      "source": [
        "<a href=\"https://colab.research.google.com/github/saurabbh14/python_tutorial_winter_semister_2021-22/blob/main/Py_tut_winter_sem_2021_22__3_follow_along.ipynb\" target=\"_parent\"><img src=\"https://colab.research.google.com/assets/colab-badge.svg\" alt=\"Open In Colab\"/></a>"
      ]
    },
    {
      "cell_type": "markdown",
      "metadata": {
        "id": "hdzdj_bAcQTb"
      },
      "source": [
        "# Data Extraction and Visualization\n",
        "\n",
        "\n"
      ]
    },
    {
      "cell_type": "markdown",
      "metadata": {
        "id": "DTaO_jMJ_sYx"
      },
      "source": [
        "## Recap & homework discussion\n",
        "\n",
        "Let's go over the things you learnt so far.\n",
        "\n",
        "Here is a (not anymore so) short list of all the concepts you got to know already:\n",
        "\n",
        "- Math operations in Python (`+, -, *, /, //, %`)\n",
        "- Basic data types in Python (`bool`, `float`, `int`, `str`)\n",
        "- Calling functions (`print()`, `help()`)\n",
        "- Lists (`[1, 2, 3, 4]`)\n",
        "- Control flow : If-else statements (asking questions, making decisions)\n",
        "- Loops (`for` and `while`)\n",
        "- Defining functions\n",
        "- Modules (`numpy`, `matplotlib.pyplot`, local modules)\n",
        "- Velocity Verlet Algorithm(Molecular dynamics simulations) \n",
        "\n",
        "\n",
        "Did you encounter any problems, syntax errors or other issues in your home-based Python journey? \n",
        "\n",
        "\n"
      ]
    },
    {
      "cell_type": "code",
      "metadata": {
        "id": "aXMo5ObwDTir"
      },
      "source": [
        "# Did you encounter any problems/bugs/errors?\n"
      ],
      "execution_count": null,
      "outputs": []
    },
    {
      "cell_type": "markdown",
      "metadata": {
        "id": "gA75AmVunX19"
      },
      "source": [
        "## Introducing I/O\n",
        "\n",
        "Until now, all we did was crush numbers internally. Most of you will work with some software packages to calculate data or run experimenta where you will encounter large amounts of calculated or measured data that you may want to process using Python. \n",
        "\n",
        "This is where I/O comes in, which is short of input/output. This is the large topic of reading data from a file (**input**), processing the data in it and writing new information to a file (**output**).\n",
        "\n",
        "Our first goal will be to read strings, lists and arrays from files. To write a file in Colab (one that we can read), go to the \"Files\"-Tab on the right-hand side and on right click, you can upload a file from your computer.\n",
        "\n",
        "\n"
      ]
    },
    {
      "cell_type": "markdown",
      "metadata": {
        "id": "4Fjrw0CJApPW"
      },
      "source": [
        "### Direct user input\n",
        "\n",
        "If you want to ask the user of your program a question, you can use the `input()` function. In the parantheses put the question that you want to ask as a string. The return value (that you typically assign to a variable) is always a `str`ing.\n",
        "\n",
        "See an example here:"
      ]
    },
    {
      "cell_type": "code",
      "metadata": {
        "id": "zG4Wm12JBG2J"
      },
      "source": [
        "# Test ground\n",
        "name = input(\"What's your name? \")\n",
        "print(\"Hello, \" + name + \"!\")\n"
      ],
      "execution_count": null,
      "outputs": []
    },
    {
      "cell_type": "markdown",
      "metadata": {
        "id": "2gFiqn3rBeAT"
      },
      "source": [
        "You find more exercise on user input using the `input()` function in the last homework notebook. As the function really is neither particularly interesting nor (in the grand scheme of things) exceptionally useful, let's continue with files!"
      ]
    },
    {
      "cell_type": "markdown",
      "metadata": {
        "id": "4VW8uc5zEaVt"
      },
      "source": [
        "### Reading and writing files"
      ]
    },
    {
      "cell_type": "markdown",
      "metadata": {
        "id": "KuU9BNb3QMT6"
      },
      "source": [
        "#### Reading files\n",
        "\n",
        "In the first part of this notebook, we'll use the sample files provided in Colab. Let's try to open and read a file (/content/sample_data/california_housing_test.csv) using Python. There are several ways one can read a file in Python. We'll see two most common ones.\n",
        "\n",
        "The first one and more common one is to use `with open(...) as ... :` statement:"
      ]
    },
    {
      "cell_type": "code",
      "metadata": {
        "id": "Nt350wyrJUtc"
      },
      "source": [
        "# Open the file. The string is the `path` to the file.\n",
        "with open(\"/content/sample_data/california_housing_test.csv\", \"r\") as f:  #`f` is assigned automatically.\n",
        "  headerl = f.readline()    # reads the first line\n",
        "  filebody = f.readlines()  # reads the rest of the lines\n",
        "\n",
        "# Now you can do things with the file, for example, print it:\n",
        "\n",
        "print(headerl)\n",
        "print(filebody)\n",
        "\n"
      ],
      "execution_count": null,
      "outputs": []
    },
    {
      "cell_type": "markdown",
      "metadata": {
        "id": "0WT0iYqg3q3D"
      },
      "source": [
        "\n",
        "Remember that all these lines are still of the type `string`. That means that we *cannot* yet use our matrix or vector functions on it. We need to process that data beforehand."
      ]
    },
    {
      "cell_type": "markdown",
      "metadata": {
        "id": "u8sHS-AnHP1N"
      },
      "source": [
        "Another way is to use NumPy. While this may be necessary for more specialised data formats, NumPy allows for easy reading and writing of standard n-column `.txt`,`.csv` files. And the output, we'll get after reading is always as an array. For more information you may refer to https://numpy.org/devdocs/user/how-to-io.html"
      ]
    },
    {
      "cell_type": "code",
      "metadata": {
        "id": "zpvZXDyvok4E"
      },
      "source": [
        "# we can read the file with numpy:\n",
        "import numpy as np\n",
        "\n",
        "read_data = np.genfromtxt(\"/content/sample_data/california_housing_test.csv\", \n",
        "                            delimiter=\",\", dtype=np.float, skip_header=1)\n",
        "# Notice: if your script line is getting too long, there are ways wrap it around (as done above).\n",
        "\n",
        "print(read_data)\n",
        "\n",
        " \n"
      ],
      "execution_count": null,
      "outputs": []
    },
    {
      "cell_type": "markdown",
      "metadata": {
        "id": "e6oMRPueRBE7"
      },
      "source": [
        "#### Processing the data and String Manipulation\n",
        "\n",
        "Now that we have the raw data, we can use it to generate our matrix of numbers.\n",
        "To do so, we need to process the strings that we got from the file reading.\n",
        "\n",
        "Three very helpful string functions are the string methods `.strip()`, `.split()` and `.join()`. Methods are functions that can be applied directly to a data type, like here:  "
      ]
    },
    {
      "cell_type": "code",
      "metadata": {
        "id": "KTUxhj6NiNxD"
      },
      "source": [
        "test_str = \"   My grandma rides, her motor-cycle in the, chicken ,coop.\\n\"\n",
        "print(\"Given String:\", test_str)\n",
        "\n",
        "# The split() method splits strings. By default, it splits the string \n",
        "# at whitespaces (including newline characters).\n",
        "splitted_ws = test_str.split()\n",
        "print(\"Splitted String:\", splitted_ws, \"\\n\")\n",
        "\n",
        "# You can also supply the method with a character to split at.\n",
        "splitted_ds = test_str.split(\",\")\n",
        "print(\"String splitted with ',':\", splitted_ds, \"\\n\")\n",
        "\n",
        "# The strip() methods trims whitespaces and newline characters (\"\\n\") around a string.\n",
        "stripped = test_str.strip()\n",
        "print(\"String Stripped off all extra spaces:\",stripped, \"\\n\")\n",
        "\n",
        "# The join() method joins a list of strings using a delimiter string.\n",
        "joined = \"+\".join(splitted_ds)\n",
        "print(\"String Joinrd with '+':\", joined)\n",
        "\n",
        "# You can also chain these operations (they are applied from left to right).\n",
        "strip_splitted = test_str.strip().split(\"-\")\n",
        "print(strip_splitted)\n",
        "\n"
      ],
      "execution_count": null,
      "outputs": []
    },
    {
      "cell_type": "markdown",
      "metadata": {
        "id": "oKmVuJFr_6wN"
      },
      "source": [
        "Okay then, we now know how to read files and how to process the obtained strings. Let's perform a simple task.\n",
        "\n",
        "**Task:** Take the list of strings(content of the file) which were read from the file `/content/sample_data/california_housing_test.csv` and covert the string elements into floats(or integers). (**Notice** that we do not need to perform this process for the file-reading using Numpy.)"
      ]
    },
    {
      "cell_type": "code",
      "metadata": {
        "id": "Zd1ol_1hBwAl"
      },
      "source": [
        "# Let's brain storm :)\n",
        "                #storing two dimensional data\n",
        "for line in filebody:\n",
        "              #storing data temporarily\n",
        "  for item in line(?): # splitting and striping\n",
        "               # changing string to float and adding it to a list\n",
        "   # creating a list of lists(or a matrix)\n",
        "\n",
        "\n"
      ],
      "execution_count": null,
      "outputs": []
    },
    {
      "cell_type": "markdown",
      "metadata": {
        "id": "zceThqcxQFRB"
      },
      "source": [
        "#### Writing files\n",
        "\n",
        "Now that we have read the file, we may now want to store the data back in another file. To do so, we need a function that can actually process that data back into strings and then write it back to a file.\n",
        "\n",
        "Using the `open()` function, you can also open files that are not yet created. Using the parameter `\"w\"` instead of `\"r\"` you tell Python to open the file writeable. You can also simply `str`ingify a numerical value using the `str` function.\n",
        "\n",
        "With the file handle (what we called `f`) comes a `.write(...)` as well as a `.writelines(...)` method that allows you to write a string or a list of strings (joined by newline characters) to the file represented by the handle.\n",
        "\n",
        "Let's build a function which takes the path of the file and lists of strings you want to write into the file."
      ]
    },
    {
      "cell_type": "code",
      "metadata": {
        "id": "Gi88-rNJHkh-"
      },
      "source": [
        "def write_file(file_path,header,data):\n",
        "    list_str=[]\n",
        "    for row in data:\n",
        "      item_str=[]\n",
        "      for item in row:\n",
        "        item_str.append(str(item))\n",
        "      list_str.append(\",\".join(item_str)+\"\\n\")\n",
        "    \n",
        "    with open(file_path, \"w\") as f: \n",
        "     f.write(header)\n",
        "     f.writelines(list_str)\n",
        "\n",
        "\n",
        "write_file(\"/content/sample_data/california_housing_test_1.csv\",headerl, filebody_list)\n"
      ],
      "execution_count": 8,
      "outputs": []
    },
    {
      "cell_type": "markdown",
      "metadata": {
        "id": "97hG0bfCha3V"
      },
      "source": [
        "# Scientific Applications\n",
        "\n",
        "Last time around you went through the quantum chemistry part of the tutorials where you did some excited state calculations for Benzene in gas as well as in liquid phase. These calculations provide us with energy states(here electronic energy states) of the molecule and subsequently the UV-vis spectra which shows transitions among these states. You probably have already visualized these spectra during last tutorial (or at home) using Gaussview. Now we will see how can we obtain same spectra using python.\n",
        "\n",
        "First thing we are gonna need is the Gaussian `.log` file of excited states calculations. Please upload your `.log` file on the colab platform... Done?... Good!!\n",
        "\n",
        "Now, Our first order of business is to extract the \"Particular\" Data from the file. How can we do that? Before going forward, let's think what Data do we need? You must have noticed the `.log` file contains various kinds of data and we are interested in particular datalines.\n",
        "How can we locate the those lines while reading the file using python?\n",
        "Let's think for a moment.(**Hint: `if (...):`**)\n",
        "\n",
        "Notice that in this particular case the lines in question read:\n",
        "\n",
        "` Frequencies --   1622.0622              3804.1183              3938.4185`\n",
        "\n",
        "` Red. masses --      1.0824                 1.0455                 1.0812`\n",
        "\n",
        "` Frc consts  --      1.6778                 8.9139                 9.8814`\n",
        "\n",
        "` IR Inten    --     67.4786                 4.1448                67.0645`\n",
        "\n",
        "` Raman Activ --      1.9540               104.0721                24.1657`\n",
        "\n",
        "` Depolar (P) --      0.6329                 0.0416                 0.7500`\n",
        "\n",
        "` Depolar (U) --      0.7752                 0.0799                 0.8571`\n",
        "\n",
        "and we need energy/frequency of the transition and IR/Raman intensities of the transition(signal strengths) from these line.\n",
        "\n",
        "**Note:** You can have various data files (`.log`,`.csv`,`.dat`etc.) depending on the sofware you have used. So while extracting the data, one should be aware of the format of the data-file. There are many python libraries(ex. `pandas`) which are designed to deal with data extraction from specific kinds of data files, but those are beyond the scope of this course."
      ]
    },
    {
      "cell_type": "code",
      "metadata": {
        "id": "CDXbej9-p18d"
      },
      "source": [
        "with open(\"/content/H2O_MP2_aug-cc-pvdz.log\", \"r\") as f:  # reading in the file as a list whose elements\n",
        "    text = f.readlines()                    # are separate lines of the file \n",
        "    \n",
        "# forming lists \n",
        "for line in text:\n",
        "    if (line.find(\"Frequencies --\") != -1):  # True if line contains Frequencies --\n",
        "        print(line)\n",
        "        freq_list=line.split()[2:]\n",
        "    elif (line.find(\"IR Inten    --\") != -1):\n",
        "        print(line)\n",
        "        IR_inten_list=line.split()[3:]\n",
        "    elif (line.find(\"Raman Activ --\") != -1):\n",
        "        print(line)\n",
        "        Raman_scat_list=line.split()[3:]\n",
        "        \n",
        "print(freq_list)\n",
        "print(IR_inten_list)\n",
        "print(Raman_scat_list)\n",
        "\n"
      ],
      "execution_count": null,
      "outputs": []
    },
    {
      "cell_type": "markdown",
      "metadata": {
        "id": "AFg_maOOtugi"
      },
      "source": [
        "Nice! Now let's process and visualize the extracted data."
      ]
    },
    {
      "cell_type": "code",
      "metadata": {
        "id": "zcI7EWxZwMbJ"
      },
      "source": [
        "import matplotlib.pyplot as plt\n",
        "\n",
        "#get rid of \"string\" part and converting it to float\n",
        "freq = []\n",
        "IR_inten = []\n",
        "Raman_scat = [] \n",
        "for item in freq_list:\n",
        "    freq.append(float(item))\n",
        "\n",
        "for item in IR_inten_list:\n",
        "  IR_inten.append(float(item))\n",
        "\n",
        "for item in Raman_scat_list:\n",
        "  Raman_scat.append(float(item))\n",
        "#    \n",
        "print(freq)\n",
        "print(IR_inten)\n",
        "print(Raman_scat)\n",
        "\n",
        "\n",
        "# Generating stick spectra\n",
        "plt.figure(figsize=(10.0, 6.5))\n",
        "plt.xlabel(\"Frequencies (cm-1)\", fontsize=15)\n",
        "plt.ylabel(\"Signal strength\", fontsize=15)\n",
        "#plt.grid()\n",
        "plt.ylim(0.0,100)\n",
        "#plt.gca().invert_yaxis()\n",
        "plt.stem(freq, IR_inten, markerfmt=\" \", linefmt='k-', basefmt=\" \", use_line_collection=True)\n",
        "\n"
      ],
      "execution_count": null,
      "outputs": []
    },
    {
      "cell_type": "markdown",
      "metadata": {
        "id": "TqGqoYPW1UZ2"
      },
      "source": [
        "Well, now we successfully obtained the spectra. But as you know the real experimental IR spectra has broad peaks due many broadening phenomenons. Here we will try to immitate this broadening by placing Lorentzian functions at the peak positions and replotting the spectra.\n",
        "\n",
        "But first, a small task! Let's define the gaussian function.\n",
        "$$L(x)=\\frac{A}{1+s^2}$$\n",
        "where $A$ is the amplitude (signal strength) and $s$ is given as follows,\n",
        "$$s=\\frac{x-x_0}{ω/2} $$\n",
        "here $x$ is the position at which the function is evaluated. $x_0$ is the function center(peak position) and $ω$ is the full width half maxima(FWHM).\n",
        "First, let's see how it looks.\n",
        "\n",
        "**Task:** Define the Lorentzian function. And plot it to understand how it looks. For understanding purpose, you may use $A=1$, $x_0=0$ and $ω=1$. Remember to take these parameters as arguments. Do not define them as global variables."
      ]
    },
    {
      "cell_type": "code",
      "metadata": {
        "id": "zKWRI3dL8mPQ"
      },
      "source": [
        "import numpy as np\n",
        "import matplotlib.pyplot as plt\n",
        "\n",
        "# defining a Lorentzian with corresponding parameters \n",
        "def Lorentzian(x, A, x_0, fwhm):\n",
        "    s=(x-x_0)/(0.5*fwhm)\n",
        "    return A/(1+s**2)\n",
        "\n",
        "x_val = np.linspace(-10.0,10.0,1001)\n",
        "\n",
        "y_val = Lorentzian(x_val,1,0,1)\n",
        "\n",
        "plt.plot(x_val, y_val)\n"
      ],
      "execution_count": null,
      "outputs": []
    },
    {
      "cell_type": "markdown",
      "metadata": {
        "id": "AwddABBx8ses"
      },
      "source": [
        "Let's add the Lorentzian function to the IR spectra and visualize."
      ]
    },
    {
      "cell_type": "code",
      "metadata": {
        "id": "yBw3X2wmhd5J"
      },
      "source": [
        "#now we use numpy arrays\n",
        "f = np.array(freq)\n",
        "IR = np.array(IR_inten)\n",
        "\n",
        "#print(f)\n",
        "#print(lmbda)\n",
        "#print()\n",
        "\n",
        "x_val = np.linspace(1500.0, 4000.0, 1001)\n",
        "# Store Lorentzian functions and add them up to get one homogeneous plot\n",
        "spectra_broad=np.zeros(1001)\n",
        "for i, val in enumerate(f):\n",
        "    spectra_broad +=Lorentzian(x_val,IR[i],val,10.0)\n",
        "\n",
        "\n",
        "plt.figure(figsize=(10.0, 6.5))\n",
        "plt.title(\"H$_2$O: IR spectrum\", fontsize=18)\n",
        "plt.xlabel(\"Wavenumbers (cm$^{-1}$)\", fontsize=15)\n",
        "plt.ylabel(\"Signal strength\", fontsize=15)\n",
        "#plt.grid()\n",
        "plt.ylim(0.0, 100)\n",
        "plt.stem(f, IR, markerfmt=\" \", linefmt='k-', basefmt=\" \", use_line_collection=True) \n",
        "plt.plot(x_val, spectra_broad, \"b\")\n",
        "plt.savefig(\"fig.png\")\n",
        "plt.show()"
      ],
      "execution_count": null,
      "outputs": []
    },
    {
      "cell_type": "markdown",
      "metadata": {
        "id": "K5XfZMRAGhhS"
      },
      "source": [
        "**Task:** Obtain the Raman spectra with bradening. (**Hint:** you just have to replace one array in the above code)"
      ]
    },
    {
      "cell_type": "code",
      "metadata": {
        "id": "HC4CbNaTG9sH"
      },
      "source": [
        "# Your code goes here. Good luck!!"
      ],
      "execution_count": null,
      "outputs": []
    },
    {
      "cell_type": "markdown",
      "source": [
        "**Task/Homework:** Obtain the similar IR and Raman spectras for the water molecule, as discussed above, from the Gaussian log files which you have  calculated in tutorial #10(Properties of the wavefunction) in the computational chemistry part of these tutorials. There you used different levels of theory to calculate these spectras namely, HF, MP2 with basis functions cc-pVDZ, aug-cc-pVDZ. So you have 4 different calculations(`.log` files) of IR and Raman spectras for the water molecule. Visualize the spectras and compare different level of theories."
      ],
      "metadata": {
        "id": "ZS1ZcVZokM-g"
      }
    },
    {
      "cell_type": "code",
      "source": [
        "#You can use this code space or open new code block. Remember to upload your log files to the notebook"
      ],
      "metadata": {
        "id": "Kt7QAp4TvVrj"
      },
      "execution_count": null,
      "outputs": []
    }
  ]
}