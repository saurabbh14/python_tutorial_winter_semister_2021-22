{
  "nbformat": 4,
  "nbformat_minor": 0,
  "metadata": {
    "colab": {
      "name": "Homework_no_2_for_Python_programming_2021-22.ipynb",
      "provenance": [],
      "collapsed_sections": [],
      "include_colab_link": true
    },
    "kernelspec": {
      "name": "python3",
      "display_name": "Python 3"
    }
  },
  "cells": [
    {
      "cell_type": "markdown",
      "metadata": {
        "id": "view-in-github",
        "colab_type": "text"
      },
      "source": [
        "<a href=\"https://colab.research.google.com/github/saurabbh14/python_tutorial_winter_semister_2021-22/blob/main/Homework_no_2_for_Python_programming_2021_22.ipynb\" target=\"_parent\"><img src=\"https://colab.research.google.com/assets/colab-badge.svg\" alt=\"Open In Colab\"/></a>"
      ]
    },
    {
      "cell_type": "markdown",
      "metadata": {
        "id": "-jR15CuQZrpI"
      },
      "source": [
        "# Homework \\#2 -- Scientific computing\n",
        "\n",
        "In this second part of the programming lessons, we want to build a initial part of the Hartree-Fock quantum chemistry program in Python."
      ]
    },
    {
      "cell_type": "markdown",
      "metadata": {
        "id": "5NN6lZuTZ4lY"
      },
      "source": [
        "##1 Basis functions\n",
        "\n",
        "\n",
        "One key element of the Hartree-Fock approach are overlap integrals of the basis functions. We will use [Gaussian](https://en.wikipedia.org/wiki/Gaussian_function)-type basis function with the form:\n",
        "\n",
        "$$\n",
        "\\phi_\\mu(r) = n_\\mu \\cdot e^{-\\mu r^2 }\n",
        "$$\n",
        "\n",
        "For this task we will operate in spherical coordinates, such that in theory, the basis function takes the form:\n",
        "\n",
        "$$\n",
        "\\phi_\\mu(r, \\theta, \\varphi) = n_\\mu \\cdot e^{-\\mu r^2 }\n",
        "$$\n",
        "\n",
        "Of course the function does not have a dependency on $\\theta$ and $\\varphi$, however, we still need to consider them later on. <!-- -->\n",
        "\n",
        "The parameter $\\mu$ is the exponent that defines the basis set. So now, our first task is to find out how to normalise the basis functions, as these Gaussian functions are generally not normalised out-of-the-box. In quantum chemistry, we define normalisation as follows. \"$\\mathbf{r}$\" resembles a three-dimensional space $\\mathbb{R}^3$ (such as cartesian or spherical coordinates):\n",
        "\n",
        "$$\n",
        "\\langle \\phi | \\phi \\rangle = \\int \\phi^*(\\mathbf{r}) \\phi(\\mathbf{r}) \\mathrm{d}\\mathbf{r} = 1\n",
        "$$\n"
      ]
    },
    {
      "cell_type": "markdown",
      "metadata": {
        "id": "mJVwd6BK9oGx"
      },
      "source": [
        "### 1.1 Normalise the basis functions (math)\n",
        "\n",
        "Your first task is to **find the value for the normalisation parameter $n_\\mu$**. To do so, solve the following integral for $n_\\mu$:\n",
        "\n",
        "$$\n",
        "1 = \\int\\limits_0^{2\\pi}  \\int\\limits_0^{\\pi}  \\int\\limits_0^{\\infty} \\phi^*_\\mu(r) \\phi_\\mu(r)~r^2 \\mathrm{sin}\\theta~\\mathrm{dr}\\,\\mathrm{d\\theta}\\,\\mathrm{d\\varphi}\n",
        "$$\n",
        "\n",
        "Hints: \n",
        "- $\\int_0^\\infty x^2 e^{-ax^2} \\mathrm{d}x = \\dfrac{\\sqrt{\\pi}}{4 \\cdot a^ {3/2}}\\quad \\mathrm{for}\\quad \\Re(a) > 0$.\n",
        "\n",
        "- The first integral refers to $\\varphi$, the second to $\\theta$ and the last to $r$.\n",
        "- The integrals over $\\varphi$ and $\\theta$ should add up to a factor of $4\\pi$."
      ]
    },
    {
      "cell_type": "markdown",
      "metadata": {
        "id": "lMpsA8HQs4zr"
      },
      "source": [
        "**Write your answer here.** If you do not know the LaTeX notation, you can also write it as code below. Just double-click on this text cell to edit it."
      ]
    },
    {
      "cell_type": "markdown",
      "metadata": {
        "id": "C7_3MqfgtQyz"
      },
      "source": [
        "### 1.2 Implementing basis functions in Python\n",
        "\n",
        "\n",
        "\n"
      ]
    },
    {
      "cell_type": "markdown",
      "metadata": {
        "id": "cloCz0BE89Wv"
      },
      "source": [
        "So now we start out building our integrals in Python. To see how the functions compare speed-wise, we will implement three similar approaches to the overlap integral. \n",
        "\n",
        "**Task:** (Only after sovling 1.1) Implement the normalised basis function $\\phi_\\mu(r)$ in Python.\n",
        "\n",
        "\n",
        "\n",
        "1.   Firstly, write the Normalization parameter function (`n(mu)`). Note that it's independent of $r$.\n",
        "2.   Using above function, write the actual gaussian basis function(`\\phi(mu,r)`).\n",
        "3.   Plot the basis function in the range $r=[0:5]$ with $101$ grid-points and $\\mu = 1$.\n",
        "\n",
        "**Extra:** You can also check the shape of the function by changing the range $r=[-5:5]$.\n",
        "\n",
        "\n"
      ]
    },
    {
      "cell_type": "code",
      "metadata": {
        "id": "Zw8QBr2qZWsW"
      },
      "source": [
        "import numpy as np\n",
        "import matplotlib.pyplot as plt\n",
        "\n",
        "\n",
        "# Define here the functiion n(mu)\n",
        "\n",
        "\n",
        "\n",
        "# Define here the function phi(mu, r)\n",
        "\n",
        "\n",
        "# Now define some basis function and an array of `r` and plot the function\n"
      ],
      "execution_count": null,
      "outputs": []
    },
    {
      "cell_type": "markdown",
      "metadata": {
        "id": "F_RyUCy3GgTg"
      },
      "source": [
        "### 1.3 Calculate the analytical overlap integral (math)\n",
        "\n",
        "Now that we have the normalised basis functions, we can continue. The second important quantity we need is the overlap between two basis functions. We denote this quantity as $s_{\\mu \\nu}$. Solve the following integration (the angular components are already integrated) and **find the analytical solution**:\n",
        "\n",
        "$$\n",
        "s_{\\mu \\nu} = 4  \\pi \\int\\limits_0^{\\infty} \\phi_\\nu(r) \\phi_\\mu(r)~r^2~\\mathrm{dr}\n",
        "$$"
      ]
    },
    {
      "cell_type": "markdown",
      "metadata": {
        "id": "OJorzSyyKO6U"
      },
      "source": [
        "**Write your answer here.** If you do not know the LaTeX notation, you can also write it as code below. Just double-click on this text cell to edit it."
      ]
    },
    {
      "cell_type": "markdown",
      "metadata": {
        "id": "i03otIMAETD6"
      },
      "source": [
        "### 1.4 Build the integration functions (advanced)"
      ]
    },
    {
      "cell_type": "markdown",
      "metadata": {
        "id": "r57tWNbEBgys"
      },
      "source": [
        "These overlap integrals are one of the most important quantities in a Hartree-Fock program. So let's write the functions to calculate these. Before going ahead, I would like to remind you that a integral is nothing but a sum($Σ$) over spacific range ($[0:∞]$) multiplied by grid spacing($dr$). I have given you a sample code for calculating $I=∫_{0}^{\\pi} sin(θ) dθ $. \n",
        "\n",
        "``` python\n",
        "# This a example code for solving a integral numerically (or  Numerical integration code).\n",
        "import math\n",
        "\n",
        "# First we need to creat a list of many theta values in range [0:pi]\n",
        "n = 101                           # 101 points should be enough for example\n",
        "start = 0                         # start of the grid\n",
        "end = math.pi                     # end of the grid\n",
        "d_theta = (end - start) / (n - 1) # grid spacing\n",
        "\n",
        "# Generating the grid\n",
        "theta_list = [start + (i-1)*d_theta for i in range(n)]  \n",
        "\n",
        "# Next we are going to generate a list using list comprehension (or for loop)\n",
        "sin_list = [math.sin(val) for val in theta_list]\n",
        "\n",
        "# Performing Integration over sin_list\n",
        "integral_sin = sum(sin_list) * d_theta\n",
        "\n",
        "# please check if you get the correct value ;)\n",
        "\n",
        "\n",
        "```\n",
        "Please check out this code in different code block. As you may have noticed, we have only used list construct and `math` library in the above code. How can you rewrite this code using `numpy` library and array construct? (Try) \n",
        "\n",
        "\n",
        "Coming back to the actual problem \"**Calculating Gaussian overlap integrals**\". Basically we want to calculate the value of $s_{\\mu \\nu}$. There are two ways one can approach this problem either by finding a simpler analytical formula or by using numerical integration. Here we'll use both and compare which is faster.\n",
        "\n",
        "During the task you may use the eariler grid that is $r=[0:5]$ with $\\mu = 1$ and $\\nu=2$ but keep in mind $μ$ and $\\nu$ are variables. You are encouraged to use different parameters.\n",
        "\n",
        "**Tasks:** Write the overlap integral function using three different methods as instructed below and compare the time of execution of each function. Which method is faster? \n",
        "\n",
        "1. **Naive approach using only list construct:** Calculate the integral via lists and `math` library as given in the example code. \n",
        "  - As you may have noticed, here you'll need two exponents `mu1` and `mu2` and an list of r values.\n",
        "\n",
        "2. **Using Numpy:** Refine the naive approach by **re-implementing the above function using numpy functions and arrays**.\n",
        "\n",
        "3. Implement the **analytical soultion** of the overlap intergral using your precalculated result from section 1.3.\n",
        "  - You'll need to explicitly solve the equation in the section 1.3 and find the forlmula for $s_{\\mu \\nu}$   \n",
        "  - This function should only take two exponents `mu1` and `mu2`!\n",
        "\n",
        "**Note:** In the end of the cell you find some code to actually take the time it takes for the function to run. In Colab notebooks, you can use \"magic commands\" (those with a `%`) such as `%timeit`. This will not work in standard Python!"
      ]
    },
    {
      "cell_type": "code",
      "metadata": {
        "id": "sbUGE9puEdH9"
      },
      "source": [
        "import numpy as np\n",
        "import matplotlib.pyplot as plt\n",
        "\n",
        "\n",
        "# Here goes the numerical integral using lists\n",
        "def numerical_integ(mu1, mu2, r):\n",
        "  # here goes your function\n",
        "  return \n",
        "\n",
        "# Here goes the numerical integral using numpy\n",
        "def numerical_integ_numpy(mu1, mu2, r):\n",
        "  # here goes your function\n",
        "  return \n",
        "\n",
        "# Here goes the analytical integral\n",
        "def analyt_integ(mu1, mu2):\n",
        "  # here goes your function\n",
        "  return \n",
        "\n",
        "\n",
        "# Define some test values\n",
        "\n",
        "# These statements give you a precise timing of the time it takes to run \n",
        "%timeit numerical_integ(mu1, mu2, x)\n",
        "%timeit numerical_integ_numpy(mu1, mu2, x)\n",
        "%timeit analyt_integ(mu1, mu2)\n",
        "\n",
        "# Print the results of each integration\n",
        "print(numerical_integ(mu1, mu2, x))\n",
        "print(numerical_integ_numpy(mu1, mu2, x))\n",
        "print(analyt_integ(mu1, mu2))"
      ],
      "execution_count": null,
      "outputs": []
    },
    {
      "cell_type": "markdown",
      "metadata": {
        "id": "8rRlvtn7OQu_"
      },
      "source": [
        "## 2 \"Calculating\" $\\pi$ using random numbers (Monte Carlo method)\n",
        "\n",
        "A very peculiar thing to do is calculate the value of $\\pi$.\n",
        "As you might know, $\\pi$ is an irrational number and therefore, cannot be easily calculated using fractions. So one approach to calculate $\\pi$ is by using its properties as the circle number.\n",
        "\n",
        "![alt text](https://upload.wikimedia.org/wikipedia/commons/1/1f/Pi_statistisch.png)\n",
        "\n",
        "The idea is the following: The ratio of the area of a circle relative to the area of a square gives you $\\frac{\\pi}{4}$:\n",
        "\n",
        "$$\n",
        "\\dfrac{\\mathrm{Area~of~circle}}{\\mathrm{Area~of~square}} = \\dfrac{\\pi \\cdot r^2}{(2r)^2} = \\dfrac{\\pi}{4}\n",
        "$$\n",
        "\n",
        "In order to approach the area statistically, we can generate a large amount of random points in the square and then ask Python whether the point is within the circle (see the image, the red dots). The condition is:\n",
        "\n",
        "$$\n",
        "x^2 + y^2 \\le 1\n",
        "$$\n",
        "\n",
        "**Task:** So, how to go over it:\n",
        " - Initiate two variables: \n",
        "    1. The total number of points, e.g. `nr_total = 100000`\n",
        "    1. the number of points within the circle, has to be `nr_circle = 0` before the start of the loop.\n",
        " - Build a `for` loop over the number of random points you want, `nr_total`.\n",
        " - Then generate two random numbers for it, one `x` and one `y` value. Use the the `random.random()` function from the `random` library for both. The function generates a random float in the interval $[0, 1.0)$.\n",
        " - Then use an `if-else` statement to ask Python whether the point (x,y) is within the circle (with the condition above)\n",
        " - If the answer is `True`, then add `1` to the `nr_circle` variable.\n",
        " - After the loop, calculate $\\pi$ using the formula above. The area of the square corresponds to the number of points in the square which are all of the points (`nr_total`) and area of the cicle should correspond to the number of point in the circle (`nr_circle`)."
      ]
    },
    {
      "cell_type": "code",
      "metadata": {
        "id": "ilewI3Qjchlm"
      },
      "source": [
        "import random\n",
        "import timeit\n",
        "\n",
        "def monte_carlo_pi():\n",
        "  # Initialise the variables\n",
        "\n",
        "\n",
        "  # Build the for loop:\n",
        "  for ... :\n",
        "    ...\n",
        "    ...\n",
        "    if .... :\n",
        "      ....\n",
        "  \n",
        "  return ...\n",
        "\n",
        "\n",
        "print(monte_carlo_pi())\n",
        "%timeit monte_carlo_pi"
      ],
      "execution_count": null,
      "outputs": []
    },
    {
      "cell_type": "markdown",
      "source": [
        "##3 Knight moves( # voluntary task)\n",
        "\n",
        "In the game of chess, one has $8 \\times 8$ board having 64 positions. A knight in chess can move two moves verically and one move horizontally or two moves horizontally and one move vertically.\n",
        "\n",
        "**Task:** Write a program which can give all the possible knight moves, given the initial position of the knight. Be careful of the edges of the chessboard and the knight can not go beyond the chessboard boundaries.\n",
        "\n",
        "For example, if initial position $= (1,1)$('*a1*' in chess terms) then output should be $(2,3)$('*b3*') and $(3,2)$('*c2*')\n",
        "\n"
      ],
      "metadata": {
        "id": "xVmj_0eg2Ri0"
      }
    },
    {
      "cell_type": "code",
      "source": [
        "# Here goes your function\n",
        "\n"
      ],
      "metadata": {
        "id": "_dv0ARl1THCv"
      },
      "execution_count": null,
      "outputs": []
    }
  ]
}