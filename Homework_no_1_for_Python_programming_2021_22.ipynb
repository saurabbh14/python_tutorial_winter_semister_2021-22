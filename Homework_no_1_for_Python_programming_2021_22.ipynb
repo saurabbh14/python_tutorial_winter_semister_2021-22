{
  "nbformat": 4,
  "nbformat_minor": 0,
  "metadata": {
    "colab": {
      "name": "Homework_no_1_for_Python_programming_2021-22.ipynb",
      "provenance": [],
      "collapsed_sections": [],
      "toc_visible": true,
      "include_colab_link": true
    },
    "kernelspec": {
      "name": "python3",
      "display_name": "Python 3"
    }
  },
  "cells": [
    {
      "cell_type": "markdown",
      "metadata": {
        "id": "view-in-github",
        "colab_type": "text"
      },
      "source": [
        "<a href=\"https://colab.research.google.com/github/saurabbh14/python_tutorial_winter_semister_2021-22/blob/main/Homework_no_1_for_Python_programming_2021_22.ipynb\" target=\"_parent\"><img src=\"https://colab.research.google.com/assets/colab-badge.svg\" alt=\"Open In Colab\"/></a>"
      ]
    },
    {
      "cell_type": "markdown",
      "metadata": {
        "id": "ztJ3vz83eesI"
      },
      "source": [
        "# Homework / Voluntary tasks to get to know Python\n",
        "\n",
        "The following tasks are thought as a complement to the Python programming lessons in the Advanced Simulation Techniques module for the Chemistry of Materials Masters program. I do encourage you to do the tasks and persevere until you actually finish them!\n",
        "\n"
      ]
    },
    {
      "cell_type": "markdown",
      "metadata": {
        "id": "9KSkWRq_JWvz"
      },
      "source": [
        "## 0 » If else statements\n",
        "\n",
        "Before I let you loose on the tasks, let me give you a quick introduction into **conditional statements**. \n",
        "\n",
        "In case you want to ask Python a question (a yes/no question to be precise) and have the program flow altered by the answer, you need conditionals.\n",
        "\n",
        "In Python, you use comparisons to ask a question a la:\n",
        "\n",
        "- Is this number stored in `x` lower than 10? --> In Python: `x < 10`, \n",
        "- is this number stored in `x` exactly 10? --> In Python: `x == 10`,\n",
        "- and so on ...\n",
        "\n",
        "Now, if you want to check a condition and run code specific to the result, use an `if`-`else` statement:"
      ]
    },
    {
      "cell_type": "code",
      "metadata": {
        "id": "QK_MSEqAJWIb"
      },
      "source": [
        "# Run the `input()` function and see what it does!\n",
        "x = input(\"Give your number! \")\n",
        "\n",
        "# What do I do with the `int()` function\n",
        "if int(x) < 10:\n",
        "  # This block is executed when the question `x < 10` returns True\n",
        "  print(\"Your number is lower than 10.\")\n",
        "  \n",
        "else: \n",
        "  # This block is executed when the question `x < 10` returns False\n",
        "  print(\"Your number is not lower than 10.\")\n",
        "\n"
      ],
      "execution_count": null,
      "outputs": []
    },
    {
      "cell_type": "markdown",
      "metadata": {
        "id": "HJhjZ6CoK8qe"
      },
      "source": [
        "Note that here, the line with the `if` on it starts with an `if`, then you ask your question and end the line with a colon `:` .\n",
        "\n",
        "If the result of the question is `True`, the block of code directly below will be executed.\n",
        "\n",
        "If the result of the question is `False`, the block of code directly below will *NOT* be executed. \n",
        "\n",
        "There is one additional feature. If you want to check a number of conditions one after another, you can ask multiple questions using the `elif` (short for `else if`) statement:\n",
        "\n"
      ]
    },
    {
      "cell_type": "code",
      "metadata": {
        "id": "sZpPYx69K76_",
        "colab": {
          "base_uri": "https://localhost:8080/",
          "height": 54
        },
        "outputId": "bbf588c0-3313-462d-a0af-aa2afb3344d4"
      },
      "source": [
        "# Run the `input()` function and see what it does!\n",
        "x = input(\"Give your number! \")\n",
        "\n",
        "# What do I do with the `int()` function\n",
        "if int(x) < 10:\n",
        "  # This block is executed when the question `x < 10` returns True\n",
        "  print(\"Your number is lower than 10.\")\n",
        "\n",
        "elif int(x) == 10:\n",
        "  # This block is executed when the question `x == 10` returns True\n",
        "  print(\"Your number is exactly 10.\")\n",
        "\n",
        "else: \n",
        "  # This block is executed when all other questions return False\n",
        "  print(\"Your number is not lower than 10.\")\n"
      ],
      "execution_count": null,
      "outputs": [
        {
          "output_type": "stream",
          "text": [
            "Give your number! 10\n",
            "Your number is exactly 10.\n"
          ],
          "name": "stdout"
        }
      ]
    },
    {
      "cell_type": "markdown",
      "metadata": {
        "id": "JjT-i5u-rXtj"
      },
      "source": [
        "Of course, you can use these constructs everywhere you like (such as in a function) to alter your program flow based on these questions. Now try the tasks below. If you encounter problems and you don't know what to do, shoot me an email at fabian.droege@uni-jena.de."
      ]
    },
    {
      "cell_type": "markdown",
      "metadata": {
        "id": "4saYLoRqg4GH"
      },
      "source": [
        "## 1 » Code comprehension\n",
        "\n",
        "In this task, take the following code, try to run it and find out what it does. Answer the following questions:\n",
        "\n",
        "1. What does `import random` do? What does `random.randint()` return?\n",
        "2. What is the point of the `while` statement?\n",
        "3. What does the function `input()` do?\n",
        "\n",
        "**Note:** Write your answers as comments and also write how this game is played or how this code is working. "
      ]
    },
    {
      "cell_type": "code",
      "metadata": {
        "id": "QMS5gznfiXNO"
      },
      "source": [
        "import random\n",
        "\n",
        "game_is_running = True\n",
        "\n",
        "target = random.randint(1,100)\n",
        "\n",
        "# Hint: `while game_is_running:` is the same as `while game_is_running == True:`\n",
        "while game_is_running:\n",
        "    # \n",
        "    guess = input(\"Your guess:\")\n",
        "    guess = int(guess)\n",
        "    # \n",
        "    if guess == target:\n",
        "        print(\"Congratulations!\")\n",
        "        game_is_running = False\n",
        "    elif guess > target:\n",
        "        print(\"Too large\")\n",
        "    else:\n",
        "        print(\"Too small\")"
      ],
      "execution_count": null,
      "outputs": []
    },
    {
      "cell_type": "markdown",
      "metadata": {
        "id": "03u_JhN7zXJK"
      },
      "source": [
        "### 1.1 » Make it more personal!\n",
        "\n",
        "Modify the program above to have Python ask for your name. Then use this name to congratulate you once you finish. **Hint**: You can glue strings together using the `+` operator. E.g., `\"Hello \" + \"World\"` gives you `\"Hello World\"` "
      ]
    },
    {
      "cell_type": "code",
      "metadata": {
        "id": "lUT3mGIQ0aT1"
      },
      "source": [
        "# Modify this program to congratulate you personally!\n",
        "\n",
        "import random\n",
        "\n",
        "game_is_running = True\n",
        "\n",
        "target = random.randint(1,100)\n",
        "Name=input('What is your name?')\n",
        "\n",
        "# Hint: `while game_is_running:` is the same as `while game_is_running == True:`\n",
        "while game_is_running:\n",
        "    # \n",
        "    guess = input(\"Your guess:\")\n",
        "    guess = int(guess)\n",
        "    # \n",
        "    if guess == target:\n",
        "        print(\"Congratulations!\",Name)\n",
        "        game_is_running = False\n",
        "    elif guess > target:\n",
        "        print(\"Too large\")\n",
        "    else:\n",
        "        print(\"Too small\")"
      ],
      "execution_count": null,
      "outputs": []
    },
    {
      "cell_type": "markdown",
      "metadata": {
        "id": "CGxncukKIVTk"
      },
      "source": [
        "## 2 » Calculating stuff with vectors & matrices\n",
        "\n",
        "You have learned how to respresent a vector in Python, as a `list`. As lists are not confined to a specific length, we want to check whether two vectors have the same length.\n",
        "\n"
      ]
    },
    {
      "cell_type": "markdown",
      "metadata": {
        "id": "BuwYnddJsYbU"
      },
      "source": [
        "For example, let's write a function that takes to vectors and which checks whether the length of both vectors are the same! How can we proceed? Hint: use the `len()` function. If the vectors have the same length, have the function return `True`, else `False`."
      ]
    },
    {
      "cell_type": "code",
      "metadata": {
        "id": "aPdiwDOmtCIZ",
        "colab": {
          "base_uri": "https://localhost:8080/"
        },
        "outputId": "bbcd69d5-9827-4412-8c94-7f0fced0c592"
      },
      "source": [
        "# Here goes your code. Name the function `vec_check()`\n",
        "vec1=[1,2,3]\n",
        "vec2=[4,5]\n",
        "\n",
        "def vec_check(v1,v2):\n",
        "  if len(v1)==len(v2):\n",
        "    print(\"vectors are of equal length\")\n",
        "  else:\n",
        "    print(\"Error:vectors are of unequal length\")\n",
        "\n",
        "check=vec_check(vec1,vec2)\n"
      ],
      "execution_count": null,
      "outputs": [
        {
          "output_type": "stream",
          "name": "stdout",
          "text": [
            "Error:vectors are of unequal length\n"
          ]
        }
      ]
    },
    {
      "cell_type": "markdown",
      "metadata": {
        "id": "06g2HlEzvp-E"
      },
      "source": [
        "### 2.2 » Check matrix dimensions (advanced)\n",
        "\n",
        "Now extend your function to allow for length checking of matrices. As matrices have an \"outer and an \"inner\" length, you need to modify your function: \n",
        "\n",
        "1. Include a third argument which shall be a list of 2 strings.\n",
        "  - The two elements can be either \"o\" or \"i\", denoting the inner (\"i\") or outer (\"o\") index respectively.\n",
        "  - The order of the elements is identical to the order of the input matrices.\n",
        "  - I. e., the function shall be called like `mat_check(mat1, mat2, [\"i\", \"o\"])` if you want to compare the inner length of `mat1` with the outer length of `mat2`.\n",
        "\n",
        "2. In the function, distinguish between the inner and outer indices of the matrix. Hint: You can get a specific element of a matrix with two indexing operations, such as `matrix[outer][inner]`, where `outer` and `inner` are integers.\n",
        "\n",
        "3. Have the function return `True` or `False`, depending on whether the lengths of the requested dimensions match. Assume that the all inner lists have the same length (i.e. all matrices are well-formed). "
      ]
    },
    {
      "cell_type": "code",
      "metadata": {
        "id": "0M7_t9AAyenF"
      },
      "source": [
        "# Here are the two example matrices\n",
        "matrix1=[[1,2,3],\n",
        "         [4,5,6],\n",
        "         [7,8,9]] # a 3*3 matrix\n",
        "matrix2=[[1,2,3],\n",
        "         [4,5,6],\n",
        "         [7,8,9]] # a 3*3 matrix\n",
        "\n",
        "# Here goes your function, call it `mat_check()`\n",
        "def mat_check(mat1, mat2):\n",
        "  \n"
      ],
      "execution_count": null,
      "outputs": []
    },
    {
      "cell_type": "markdown",
      "metadata": {
        "id": "MX7HXNlku3I-"
      },
      "source": [
        "### 2.2 » Calculate the scalar product of two vectors\n",
        "\n",
        "Now that you can check the length of two vectors, you can also calculate the scalar product. \n",
        "\n",
        "You can implement it very similar to the math expression stated in the second notebook in that you build a `for` loop (the sum) that loops over the integer indices of the vector. Hint: You can overwrite a variable with a statement like `x = x + 5` where you take the old value of `x`, add `5` to it and store it back in `x`.\n",
        "\n",
        "**Task**: Build a function that takes two vectors as input, checks their length (use the `vec_check()` function for that) and if both vectors have the same length, calculates the scalar product. "
      ]
    },
    {
      "cell_type": "code",
      "metadata": {
        "id": "15Y0aX5p2jR-"
      },
      "source": [
        "# Have fun! \n",
        "\n",
        "\n"
      ],
      "execution_count": null,
      "outputs": []
    },
    {
      "cell_type": "markdown",
      "metadata": {
        "id": "uc22lPuvg2bi"
      },
      "source": [
        "## 3 » Fibonacci series (advanced)\n",
        "\n",
        "This is a classic exercise to get students to understand the mathematic concept of *recursion*. Recursion ism, in simplified computer terms, the idea that a function calls itself when it is called. Thereby it generates an implicit \"loop\" until a \"final\" statement is reached and the \"loop\" breaks.\n",
        "\n",
        "The Fibonacci series includes the values 0, 1, 1, 2, 3, 5, 8, 13, 21, and so on. \n",
        "\n",
        "It is comprised by $f(0) = 0$ , $f(1)=1$and $f(n) = f(n-1) + f(n-2)$ that the function $f$ calls itself.\n",
        "\n",
        "**Task**: Write that function in Python code. (You will need an if-else statement to check different cases ($f(0)$, $f(1)$ and $f(n):n \\ne 0,1$))"
      ]
    },
    {
      "cell_type": "code",
      "metadata": {
        "id": "Dgky_L1Lec2N"
      },
      "source": [
        "# Here goes the Fibonacci function. Call the function `fib()`\n",
        "\n",
        "\n"
      ],
      "execution_count": null,
      "outputs": []
    }
  ]
}